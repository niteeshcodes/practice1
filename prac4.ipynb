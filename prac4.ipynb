{
 "cells": [
  {
   "cell_type": "code",
   "execution_count": 4,
   "id": "d5261635-3fb5-4ca5-b7e7-077c06eb6a38",
   "metadata": {},
   "outputs": [
    {
     "name": "stdout",
     "output_type": "stream",
     "text": [
      "[9, 4, 2, 3]\n"
     ]
    }
   ],
   "source": [
    "lst = [9,4,2,3,9,9]\n",
    "\n",
    "m = []\n",
    "for i in lst:\n",
    "    if i not in m:\n",
    "        m.append(i)\n",
    "print(m)"
   ]
  },
  {
   "cell_type": "code",
   "execution_count": 5,
   "id": "d137286b-ba7a-4157-9cbb-0815fede0cb6",
   "metadata": {},
   "outputs": [
    {
     "name": "stdout",
     "output_type": "stream",
     "text": [
      "{2: 1, 8: 3, 100: 9}\n"
     ]
    }
   ],
   "source": [
    "d = {1:2,3:8,9:100}\n",
    "rev = {}\n",
    "for key,value in d.items():\n",
    "    rev[value] = key\n",
    "print(rev)"
   ]
  },
  {
   "cell_type": "code",
   "execution_count": 6,
   "id": "ae9bbb89-3a37-4259-8ee7-e960a77cf7f3",
   "metadata": {},
   "outputs": [
    {
     "name": "stdout",
     "output_type": "stream",
     "text": [
      "{\"name\": \"Alice\", \"age\": 30, \"city\": \"New York\"}\n"
     ]
    }
   ],
   "source": [
    "import json\n",
    "info = {'name': 'Alice', 'age': 30, 'city': 'New York'}\n",
    "js = json.dumps(info)\n",
    "print(js)"
   ]
  },
  {
   "cell_type": "code",
   "execution_count": 15,
   "id": "e897ccbc-8773-4755-8e5e-6506424ebee1",
   "metadata": {},
   "outputs": [
    {
     "name": "stdout",
     "output_type": "stream",
     "text": [
      "{9: 100, 3: 8, 1: 2}\n",
      "{1: 2, 3: 8, 9: 100}\n"
     ]
    }
   ],
   "source": [
    "d = {1:2,3:8,9:100}\n",
    "n = dict(sorted(d.items(),reverse = True))\n",
    "print(n)\n",
    "m = sorted(d.items(),key=lambda x:x[1])\n",
    "print(dict(m))"
   ]
  },
  {
   "cell_type": "code",
   "execution_count": null,
   "id": "246f2baf-990f-4dc3-a850-136fe0e5e221",
   "metadata": {},
   "outputs": [],
   "source": []
  }
 ],
 "metadata": {
  "kernelspec": {
   "display_name": "Python 3 (ipykernel)",
   "language": "python",
   "name": "python3"
  },
  "language_info": {
   "codemirror_mode": {
    "name": "ipython",
    "version": 3
   },
   "file_extension": ".py",
   "mimetype": "text/x-python",
   "name": "python",
   "nbconvert_exporter": "python",
   "pygments_lexer": "ipython3",
   "version": "3.12.2"
  }
 },
 "nbformat": 4,
 "nbformat_minor": 5
}
