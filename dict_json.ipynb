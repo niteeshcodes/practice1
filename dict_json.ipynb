{
 "cells": [
  {
   "cell_type": "code",
   "execution_count": 1,
   "id": "9e90df62-69cf-4719-8623-0658d4a10c0a",
   "metadata": {},
   "outputs": [
    {
     "name": "stdout",
     "output_type": "stream",
     "text": [
      "{\"name\": \"Alice\", \"age\": 30, \"city\": \"New York\"}\n",
      "{'blood': 'A+', 'name': 'Alice', 'age': 30, 'city': 'New York'}\n"
     ]
    }
   ],
   "source": [
    "#converting a dictionary into a json string\n",
    "import json\n",
    "info = {'name': 'Alice', 'age': 30, 'city': 'New York'}\n",
    "json_string = json.dumps(info)\n",
    "print(json_string)\n",
    "\n",
    "#parse a json string to dictionary \n",
    "mydic = {'blood' : 'A+'}\n",
    "newdata = json.loads(json_string)\n",
    "mydic.update(newdata)\n",
    "print(mydic)"
   ]
  },
  {
   "cell_type": "code",
   "execution_count": null,
   "id": "a7a9af25-5cc3-46cb-b3c4-846a694b18f7",
   "metadata": {},
   "outputs": [],
   "source": []
  }
 ],
 "metadata": {
  "kernelspec": {
   "display_name": "Python 3 (ipykernel)",
   "language": "python",
   "name": "python3"
  },
  "language_info": {
   "codemirror_mode": {
    "name": "ipython",
    "version": 3
   },
   "file_extension": ".py",
   "mimetype": "text/x-python",
   "name": "python",
   "nbconvert_exporter": "python",
   "pygments_lexer": "ipython3",
   "version": "3.12.2"
  }
 },
 "nbformat": 4,
 "nbformat_minor": 5
}
