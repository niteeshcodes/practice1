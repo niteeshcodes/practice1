{
 "cells": [
  {
   "cell_type": "code",
   "execution_count": 4,
   "id": "c620012b-1f76-4253-bd09-4592dfe65468",
   "metadata": {},
   "outputs": [
    {
     "name": "stdout",
     "output_type": "stream",
     "text": [
      "0.13081028912066028\n",
      "72.79712272857091\n",
      "8\n"
     ]
    }
   ],
   "source": [
    "#generating random numbers\n",
    "import random\n",
    "# float b/w 0.1\n",
    "num = random.random()\n",
    "print(num)\n",
    "#float in specified range\n",
    "num2 = random.uniform(5,100)\n",
    "print(num2)\n",
    "#integer in specified range\n",
    "num3 = random.randint(1,50)\n",
    "print(num3)\n"
   ]
  },
  {
   "cell_type": "code",
   "execution_count": null,
   "id": "e5a61b55-08b9-42e4-82a5-23348fc8b793",
   "metadata": {},
   "outputs": [],
   "source": []
  }
 ],
 "metadata": {
  "kernelspec": {
   "display_name": "Python 3 (ipykernel)",
   "language": "python",
   "name": "python3"
  },
  "language_info": {
   "codemirror_mode": {
    "name": "ipython",
    "version": 3
   },
   "file_extension": ".py",
   "mimetype": "text/x-python",
   "name": "python",
   "nbconvert_exporter": "python",
   "pygments_lexer": "ipython3",
   "version": "3.12.2"
  }
 },
 "nbformat": 4,
 "nbformat_minor": 5
}
