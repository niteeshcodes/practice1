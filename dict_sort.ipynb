{
 "cells": [
  {
   "cell_type": "code",
   "execution_count": 2,
   "id": "dfad0397-37c4-48c6-a26f-80b30f2b25d6",
   "metadata": {},
   "outputs": [
    {
     "name": "stdout",
     "output_type": "stream",
     "text": [
      "{1: 29, 2: 20, 4: 40}\n",
      "{4: 40, 2: 20, 1: 29}\n"
     ]
    }
   ],
   "source": [
    "d = {1:29,4:40,2:20}\n",
    "sor = dict(sorted(d.items()))\n",
    "print(sor)\n",
    "desc = dict(sorted(d.items(),reverse = True))\n",
    "print(desc)"
   ]
  },
  {
   "cell_type": "code",
   "execution_count": null,
   "id": "b03f8609-abc5-4454-9663-bbe8e641e6c2",
   "metadata": {},
   "outputs": [],
   "source": []
  }
 ],
 "metadata": {
  "kernelspec": {
   "display_name": "Python 3 (ipykernel)",
   "language": "python",
   "name": "python3"
  },
  "language_info": {
   "codemirror_mode": {
    "name": "ipython",
    "version": 3
   },
   "file_extension": ".py",
   "mimetype": "text/x-python",
   "name": "python",
   "nbconvert_exporter": "python",
   "pygments_lexer": "ipython3",
   "version": "3.12.2"
  }
 },
 "nbformat": 4,
 "nbformat_minor": 5
}
