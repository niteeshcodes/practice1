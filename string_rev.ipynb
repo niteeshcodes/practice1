{
 "cells": [
  {
   "cell_type": "code",
   "execution_count": 1,
   "id": "ed11ba73-ca09-44aa-85d3-665d7d988958",
   "metadata": {},
   "outputs": [
    {
     "name": "stdout",
     "output_type": "stream",
     "text": [
      "olleh\n"
     ]
    }
   ],
   "source": [
    "#using slicing\n",
    "s = 'hello'\n",
    "r = s[::-1]\n",
    "print(r)"
   ]
  },
  {
   "cell_type": "code",
   "execution_count": 2,
   "id": "aaf00bd0-9106-407e-82ec-aaa5c560bde0",
   "metadata": {},
   "outputs": [
    {
     "name": "stdout",
     "output_type": "stream",
     "text": [
      "olleh\n"
     ]
    }
   ],
   "source": [
    "#using loop\n",
    "s = 'hello'\n",
    "r = ''\n",
    "for i in s:\n",
    "    r = i+r\n",
    "print(r)"
   ]
  },
  {
   "cell_type": "code",
   "execution_count": 5,
   "id": "722210c3-3ff3-4651-849f-0dd9e8013b3f",
   "metadata": {},
   "outputs": [
    {
     "name": "stdout",
     "output_type": "stream",
     "text": [
      "o  l  l  e  h\n"
     ]
    }
   ],
   "source": [
    "#using reversed\n",
    "s = 'hello'\n",
    "r = ''.join(reversed(s))\n",
    "print(r)"
   ]
  },
  {
   "cell_type": "code",
   "execution_count": null,
   "id": "a095beaa-a06b-4144-8288-09df9a9b764f",
   "metadata": {},
   "outputs": [],
   "source": []
  }
 ],
 "metadata": {
  "kernelspec": {
   "display_name": "Python 3 (ipykernel)",
   "language": "python",
   "name": "python3"
  },
  "language_info": {
   "codemirror_mode": {
    "name": "ipython",
    "version": 3
   },
   "file_extension": ".py",
   "mimetype": "text/x-python",
   "name": "python",
   "nbconvert_exporter": "python",
   "pygments_lexer": "ipython3",
   "version": "3.12.2"
  }
 },
 "nbformat": 4,
 "nbformat_minor": 5
}
