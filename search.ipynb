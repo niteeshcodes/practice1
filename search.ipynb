{
 "cells": [
  {
   "cell_type": "code",
   "execution_count": 1,
   "id": "5c115283-59ae-481f-b217-9271176f6cae",
   "metadata": {},
   "outputs": [
    {
     "name": "stdout",
     "output_type": "stream",
     "text": [
      "Element found at index 2\n"
     ]
    }
   ],
   "source": [
    "def linear_search(arr, target):\n",
    "    for i in range(len(arr)):\n",
    "        if arr[i] == target:\n",
    "            return i  \n",
    "    return -1  \n",
    "\n",
    "arr = [10, 20, 30, 40, 50]\n",
    "target = 30\n",
    "result = linear_search(arr, target)\n",
    "\n",
    "if result != -1:\n",
    "    print(f\"Element found at index {result}\")\n",
    "else:\n",
    "    print(\"Element not found in the array\")\n",
    "\n",
    "#TIME COMPLEXITY best case: O(1) , worst case: 0(n)\n"
   ]
  },
  {
   "cell_type": "code",
   "execution_count": 2,
   "id": "b91a4fe8-3a3d-4e2b-9b0a-532b57211233",
   "metadata": {},
   "outputs": [
    {
     "name": "stdout",
     "output_type": "stream",
     "text": [
      "Element found at index 3\n"
     ]
    }
   ],
   "source": [
    "def binary_search(arr, target):\n",
    "    left, right = 0, len(arr) - 1\n",
    "\n",
    "    while left <= right:\n",
    "        mid = (left + right) // 2\n",
    "\n",
    "        if arr[mid] == target:\n",
    "            return mid\n",
    "        # If target is greater, ignore the left half\n",
    "        elif arr[mid] < target:\n",
    "            left = mid + 1\n",
    "        # If target is smaller, ignore the right half\n",
    "        else:\n",
    "            right = mid - 1\n",
    "\n",
    "    return -1\n",
    "\n",
    "\n",
    "arr = [2, 3, 4, 10, 40]\n",
    "target = 10\n",
    "result = binary_search(arr, target)\n",
    "\n",
    "if result != -1:\n",
    "    print(f\"Element found at index {result}\")\n",
    "else:\n",
    "    print(\"Element not found in the array\")\n"
   ]
  },
  {
   "cell_type": "code",
   "execution_count": null,
   "id": "a0a2d81a-7633-4609-85c9-6a98d7c71e48",
   "metadata": {},
   "outputs": [],
   "source": []
  }
 ],
 "metadata": {
  "kernelspec": {
   "display_name": "Python 3 (ipykernel)",
   "language": "python",
   "name": "python3"
  },
  "language_info": {
   "codemirror_mode": {
    "name": "ipython",
    "version": 3
   },
   "file_extension": ".py",
   "mimetype": "text/x-python",
   "name": "python",
   "nbconvert_exporter": "python",
   "pygments_lexer": "ipython3",
   "version": "3.12.2"
  }
 },
 "nbformat": 4,
 "nbformat_minor": 5
}
