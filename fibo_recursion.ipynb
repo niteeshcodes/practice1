{
 "cells": [
  {
   "cell_type": "code",
   "execution_count": 4,
   "id": "1fd1b02e-4853-49a5-8730-ed19a22317a6",
   "metadata": {},
   "outputs": [
    {
     "name": "stdout",
     "output_type": "stream",
     "text": [
      "0\n",
      "1\n",
      "1\n",
      "2\n",
      "3\n",
      "5\n",
      "8\n",
      "13\n",
      "21\n",
      "34\n"
     ]
    }
   ],
   "source": [
    "#fibonacii recurison \n",
    "def fibonacci(n):\n",
    "    if n <= 0:\n",
    "        return \"Input should be a positive integer.\"\n",
    "    elif n == 1:\n",
    "        return 0\n",
    "    elif n == 2:\n",
    "        return 1\n",
    "    else:\n",
    "        return fibonacci(n-1) + fibonacci(n-2)\n",
    "\n",
    "n = 10\n",
    "for i in range(1, n+1):\n",
    "    print(fibonacci(i))\n"
   ]
  },
  {
   "cell_type": "code",
   "execution_count": null,
   "id": "1d602d36-9176-41b5-a019-121f30d35ee8",
   "metadata": {},
   "outputs": [],
   "source": []
  }
 ],
 "metadata": {
  "kernelspec": {
   "display_name": "Python 3 (ipykernel)",
   "language": "python",
   "name": "python3"
  },
  "language_info": {
   "codemirror_mode": {
    "name": "ipython",
    "version": 3
   },
   "file_extension": ".py",
   "mimetype": "text/x-python",
   "name": "python",
   "nbconvert_exporter": "python",
   "pygments_lexer": "ipython3",
   "version": "3.12.2"
  }
 },
 "nbformat": 4,
 "nbformat_minor": 5
}
