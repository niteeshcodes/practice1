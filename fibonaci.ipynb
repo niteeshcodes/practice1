{
 "cells": [
  {
   "cell_type": "code",
   "execution_count": null,
   "id": "5188b956-2786-40e9-9d8d-5c01d8147a95",
   "metadata": {},
   "outputs": [],
   "source": [
    "def fibo(n):\n",
    "    x=0\n",
    "    y=1\n",
    "    print(x)\n",
    "    print(y)\n",
    "    i=1\n",
    "    while i <= n-2:\n",
    "        z = x+y\n",
    "        print(z)\n",
    "        x=y\n",
    "        y=z\n",
    "        i=i+1   \n",
    "        \n",
    "n = 5\n",
    "fibo(n)"
   ]
  }
 ],
 "metadata": {
  "kernelspec": {
   "display_name": "Python 3 (ipykernel)",
   "language": "python",
   "name": "python3"
  },
  "language_info": {
   "codemirror_mode": {
    "name": "ipython",
    "version": 3
   },
   "file_extension": ".py",
   "mimetype": "text/x-python",
   "name": "python",
   "nbconvert_exporter": "python",
   "pygments_lexer": "ipython3",
   "version": "3.12.2"
  }
 },
 "nbformat": 4,
 "nbformat_minor": 5
}
