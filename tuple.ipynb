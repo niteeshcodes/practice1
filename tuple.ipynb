{
 "cells": [
  {
   "cell_type": "code",
   "execution_count": 10,
   "id": "0f642bc6-eb9d-4576-a7a4-10054f4cb690",
   "metadata": {},
   "outputs": [
    {
     "name": "stdout",
     "output_type": "stream",
     "text": [
      "(1, 2, 3, 4, 5, 6, 7, 8, 9, 10)\n"
     ]
    }
   ],
   "source": [
    "#create a tuple\n",
    "n = tuple(range(1,11))\n",
    "print(n)"
   ]
  },
  {
   "cell_type": "code",
   "execution_count": 2,
   "id": "f2416d56-e1a9-4acc-a797-80dd2328180c",
   "metadata": {},
   "outputs": [
    {
     "name": "stdout",
     "output_type": "stream",
     "text": [
      "(1, 2, 3, 4, 5, 6)\n"
     ]
    }
   ],
   "source": [
    "# concatinate\n",
    "tuple1 = (1, 2, 3)\n",
    "tuple2 = (4, 5, 6)\n",
    "\n",
    "conc_tuple = tuple1 + tuple2\n",
    "\n",
    "print(conc_tuple)\n"
   ]
  },
  {
   "cell_type": "code",
   "execution_count": 3,
   "id": "830c600c-4d25-4ab1-b9b2-e3f5d48a6c3b",
   "metadata": {},
   "outputs": [
    {
     "name": "stdout",
     "output_type": "stream",
     "text": [
      "Name: raghu\n",
      "Age: 25\n",
      "Profession: Engineer\n"
     ]
    }
   ],
   "source": [
    "# tuple unpacking\n",
    "person = (\"raghu\", 25, \"Engineer\")\n",
    "\n",
    "name, age, profession = person\n",
    "\n",
    "print(\"Name:\", name)\n",
    "print(\"Age:\", age)\n",
    "print(\"Profession:\", profession)\n"
   ]
  },
  {
   "cell_type": "code",
   "execution_count": 17,
   "id": "2d92d5b4-308e-4500-a83a-0f00840702c6",
   "metadata": {},
   "outputs": [
    {
     "name": "stdout",
     "output_type": "stream",
     "text": [
      "Sum of all elements in the tuple: 33\n"
     ]
    }
   ],
   "source": [
    "\n",
    "num_tuple = (10, 2, 3, 4, 5, 9)\n",
    "\n",
    "total_sum = sum(num_tuple)\n",
    "\n",
    "print(\"Sum of all elements in the tuple:\", total_sum)\n"
   ]
  },
  {
   "cell_type": "code",
   "execution_count": null,
   "id": "33193a41-12b6-425b-859d-e3e4e2bc9590",
   "metadata": {},
   "outputs": [],
   "source": []
  }
 ],
 "metadata": {
  "kernelspec": {
   "display_name": "Python 3 (ipykernel)",
   "language": "python",
   "name": "python3"
  },
  "language_info": {
   "codemirror_mode": {
    "name": "ipython",
    "version": 3
   },
   "file_extension": ".py",
   "mimetype": "text/x-python",
   "name": "python",
   "nbconvert_exporter": "python",
   "pygments_lexer": "ipython3",
   "version": "3.12.2"
  }
 },
 "nbformat": 4,
 "nbformat_minor": 5
}
