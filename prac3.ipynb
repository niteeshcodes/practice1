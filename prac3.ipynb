{
 "cells": [
  {
   "cell_type": "code",
   "execution_count": 4,
   "id": "02004115-5e53-428c-8b7f-354456a1783f",
   "metadata": {},
   "outputs": [
    {
     "name": "stdout",
     "output_type": "stream",
     "text": [
      "120\n"
     ]
    }
   ],
   "source": [
    "def factorial(num):\n",
    "    f = 1\n",
    "    while num >= 1:\n",
    "        f = f*num\n",
    "        num = num - 1\n",
    "    return f\n",
    "num = 5 \n",
    "print(factorial(num))"
   ]
  },
  {
   "cell_type": "code",
   "execution_count": 9,
   "id": "877a324c-da62-48a2-8604-a21d58bc9106",
   "metadata": {},
   "outputs": [
    {
     "name": "stdin",
     "output_type": "stream",
     "text": [
      " 7\n"
     ]
    },
    {
     "name": "stdout",
     "output_type": "stream",
     "text": [
      "0\n",
      "1\n",
      "1\n",
      "2\n",
      "3\n",
      "5\n"
     ]
    }
   ],
   "source": [
    "#febonaci \n",
    "n = int(input())\n",
    "x,y = 0,1\n",
    "print(x)\n",
    "print(y)\n",
    "i=1\n",
    "while i<n-2:\n",
    "    z = x + y\n",
    "    print(z)\n",
    "    x=y\n",
    "    y=z\n",
    "    i = i+1"
   ]
  },
  {
   "cell_type": "code",
   "execution_count": 11,
   "id": "45138bba-1c42-482e-ab10-a405eb17cdb4",
   "metadata": {},
   "outputs": [
    {
     "name": "stdout",
     "output_type": "stream",
     "text": [
      "False\n"
     ]
    }
   ],
   "source": [
    "def checkprime(num):\n",
    "    if num <= 1:\n",
    "        return False\n",
    "    for i in range(2,int(num**0.5) + 1):\n",
    "        if num % i == 0:\n",
    "            return False\n",
    "    return True\n",
    "num = 21\n",
    "res = checkprime(num)\n",
    "print(res)\n",
    "    "
   ]
  },
  {
   "cell_type": "code",
   "execution_count": 19,
   "id": "11d4acba-6c08-4925-ad7e-6561df854ab2",
   "metadata": {},
   "outputs": [
    {
     "name": "stdout",
     "output_type": "stream",
     "text": [
      "[2, 4, 6, 8, 10, 12, 14, 16, 18, 20, 22, 24, 26, 28, 30, 32, 34, 36, 38, 40, 42, 44, 46, 48, 50]\n",
      "[2, 3, 5, 7, 11, 13, 17, 19, 23, 29, 31, 37, 41, 43, 47]\n",
      "[1, 4, 9, 16, 25, 36, 49, 64, 81, 100]\n"
     ]
    }
   ],
   "source": [
    "#list comprehension\n",
    "#even numbers\n",
    "x =[ i for i in range(1,51) if i%2==0 ]\n",
    "print(x)\n",
    "#prime numbers\n",
    "y = [ i for i in range(2,51) if all([i%d!=0 for d in range(2,i)])]\n",
    "print(y)\n",
    "#squares\n",
    "z= [ i**2 for i in range(1,11)]\n",
    "print(z)"
   ]
  },
  {
   "cell_type": "code",
   "execution_count": 26,
   "id": "0d6293be-e647-41ad-8b23-5ed1fa5ac687",
   "metadata": {},
   "outputs": [
    {
     "name": "stdout",
     "output_type": "stream",
     "text": [
      "{'fien': 11, 'sai': 62}\n",
      "{11: 121, 62: 3844}\n",
      "{'sai'}\n"
     ]
    }
   ],
   "source": [
    "name = ['fien','sai']\n",
    "age =[11,62]\n",
    "\n",
    "d = {name[i]:age[i] for i in range(len(name))}\n",
    "print(d)\n",
    "\n",
    "s = {x:x**2 for x in age}\n",
    "print(s)\n",
    "\n",
    "f = {x for x in name if len(x) < 4}\n",
    "print(f)"
   ]
  },
  {
   "cell_type": "code",
   "execution_count": null,
   "id": "36296549-039f-419d-8a73-7fe1456a593c",
   "metadata": {},
   "outputs": [],
   "source": []
  }
 ],
 "metadata": {
  "kernelspec": {
   "display_name": "Python 3 (ipykernel)",
   "language": "python",
   "name": "python3"
  },
  "language_info": {
   "codemirror_mode": {
    "name": "ipython",
    "version": 3
   },
   "file_extension": ".py",
   "mimetype": "text/x-python",
   "name": "python",
   "nbconvert_exporter": "python",
   "pygments_lexer": "ipython3",
   "version": "3.12.2"
  }
 },
 "nbformat": 4,
 "nbformat_minor": 5
}
