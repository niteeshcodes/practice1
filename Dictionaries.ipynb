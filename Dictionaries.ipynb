{
 "cells": [
  {
   "cell_type": "code",
   "execution_count": 26,
   "id": "b4525069-e626-49f3-b09b-af58bb79b76f",
   "metadata": {},
   "outputs": [
    {
     "name": "stdout",
     "output_type": "stream",
     "text": [
      "{1: 'python', 2: 'sql', 3: 'java', 4: 'cpp', 5: 'cpp'}\n",
      "dict_values(['python', 'sql', 'java', 'cpp', 'cpp'])\n",
      "dict_keys([1, 2, 3, 4, 5])\n",
      "java\n",
      "default_value\n",
      "{1: 'python', 2: 'sql', 3: 'java', 4: 'cpp'}\n",
      "{1: 'python', 2: 'sql', 4: 'cpp'}\n",
      "{1: 'python', 2: 'sql', 4: 'cpp', 100: 'linux'}\n",
      "4\n",
      "2\n",
      "{1: 'python', 2: 'sql', 4: 'cpp', 100: 'linux', 50: 'AIML'}\n",
      "[1, 2, 4, 50, 100]\n",
      "[100, 50, 4, 2, 1]\n",
      "{}\n"
     ]
    }
   ],
   "source": [
    "#create an empty dictionary and add key value pairs to it\n",
    "dict = {}\n",
    "#adding key value pairs\n",
    "dict[1] = 'python'\n",
    "dict[2] = 'sql'\n",
    "dict[3] = 'java'\n",
    "dict[4] = 'cpp'\n",
    "dict[5] = 'cpp'\n",
    "print(dict)\n",
    "\n",
    "print(dict.values())\n",
    "print(dict.keys())\n",
    "\n",
    "#accessing values associated with specific key \n",
    "value = dict[3]\n",
    "print(value)\n",
    "#or \n",
    "value = dict.get(7,'default_value')\n",
    "print(value)\n",
    "\n",
    "#remove last element\n",
    "dict.popitem()\n",
    "print(dict)\n",
    "\n",
    "#remove specified key \n",
    "dict.pop(3)\n",
    "print(dict)\n",
    "\n",
    "#inserting new elements\n",
    "dict.setdefault(100,'linux')\n",
    "print(dict)\n",
    "\n",
    "#find the key with minimum and maximum value\n",
    "min_key = min(dict,key=dict.get)\n",
    "print(min_key)\n",
    "max_key = max(dict,key=dict.get)\n",
    "print(max_key)\n",
    "\n",
    "#merging two dicts into one\n",
    "dict2 = {50:'AIML'}\n",
    "dict.update(dict2)\n",
    "print(dict)\n",
    "\n",
    "#sorting \n",
    "print(sorted(dict))\n",
    "print(sorted(dict,reverse= True))\n",
    "\n",
    "#clearing a dictionary\n",
    "dict2.clear()\n",
    "print(dict2)\n",
    "\n",
    "\n",
    "\n",
    "\n"
   ]
  },
  {
   "cell_type": "code",
   "execution_count": 27,
   "id": "297bd86c-e6d1-486d-807e-12b8f3134604",
   "metadata": {},
   "outputs": [
    {
     "name": "stdout",
     "output_type": "stream",
     "text": [
      "{1: 'a', 2: 'b', 3: 'c'}\n"
     ]
    }
   ],
   "source": [
    "#reversing the key value pairs \n",
    "\n",
    "my_dict = {'a': 1, 'b': 2, 'c': 3}\n",
    "rev_dict = {}\n",
    "for key,value in my_dict.items():\n",
    "    rev_dict[value] = key \n",
    "print(rev_dict)"
   ]
  },
  {
   "cell_type": "code",
   "execution_count": 29,
   "id": "8c2fb9d6-7d9f-4325-a298-cd57853824ab",
   "metadata": {},
   "outputs": [
    {
     "name": "stdout",
     "output_type": "stream",
     "text": [
      "{1: 1, 2: 4, 3: 9, 4: 16, 5: 25}\n",
      "{2: 4, 4: 16}\n"
     ]
    }
   ],
   "source": [
    "#dictionary comprehension \n",
    "squares = {x : x**2 for x in range(1,6)}\n",
    "print (squares) \n",
    "\n",
    "even_sq = {x : x**2 for x in range(1,6) if x%2 == 0}\n",
    "print (even_sq)"
   ]
  },
  {
   "cell_type": "code",
   "execution_count": 37,
   "id": "2299936b-8f0a-4eb0-8ed5-83482d8a3c75",
   "metadata": {},
   "outputs": [
    {
     "name": "stdout",
     "output_type": "stream",
     "text": [
      "{\"name\": \"Alice\", \"age\": 30, \"city\": \"New York\"}\n",
      "{'blood': 'A+', 'name': 'Alice', 'age': 30, 'city': 'New York'}\n"
     ]
    }
   ],
   "source": [
    "#converting a dictionary into a json string\n",
    "import json\n",
    "info = {'name': 'Alice', 'age': 30, 'city': 'New York'}\n",
    "json_string = json.dumps(info)\n",
    "print(json_string)\n",
    "\n",
    "#parse a json string to dictionary \n",
    "mydic = {'blood' : 'A+'}\n",
    "newdata = json.loads(json_string)\n",
    "mydic.update(newdata)\n",
    "print(mydic)\n"
   ]
  },
  {
   "cell_type": "code",
   "execution_count": null,
   "id": "366a43b2-194f-4048-940e-745f7af59079",
   "metadata": {},
   "outputs": [],
   "source": []
  }
 ],
 "metadata": {
  "kernelspec": {
   "display_name": "Python 3 (ipykernel)",
   "language": "python",
   "name": "python3"
  },
  "language_info": {
   "codemirror_mode": {
    "name": "ipython",
    "version": 3
   },
   "file_extension": ".py",
   "mimetype": "text/x-python",
   "name": "python",
   "nbconvert_exporter": "python",
   "pygments_lexer": "ipython3",
   "version": "3.12.2"
  }
 },
 "nbformat": 4,
 "nbformat_minor": 5
}
