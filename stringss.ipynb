{
 "cells": [
  {
   "cell_type": "code",
   "execution_count": 1,
   "id": "db1b39db-955e-4af3-a04a-b5cb1713508f",
   "metadata": {},
   "outputs": [
    {
     "name": "stdout",
     "output_type": "stream",
     "text": [
      "!dlroW olleH\n"
     ]
    }
   ],
   "source": [
    "#reverse a string\n",
    "s = \"Hello World!\"\n",
    "\n",
    "r = s[::-1]\n",
    "print(r)\n",
    "\n",
    "\n"
   ]
  },
  {
   "cell_type": "code",
   "execution_count": 2,
   "id": "52095c98-4a77-4df4-9fe4-a21c5a7ba68c",
   "metadata": {},
   "outputs": [
    {
     "data": {
      "text/plain": [
       "7"
      ]
     },
     "execution_count": 2,
     "metadata": {},
     "output_type": "execute_result"
    }
   ],
   "source": [
    "#count vowels in a string\n",
    "def Vcount(s):\n",
    "    vowels = 'aeiouAEIOU'\n",
    "    count = 0\n",
    "    for i in s :\n",
    "        if i in vowels:\n",
    "            count += 1\n",
    "    return count \n",
    "word =\"helloWorld\"\n",
    "Vcount(word)\n"
   ]
  },
  {
   "cell_type": "code",
   "execution_count": 7,
   "id": "ba5739b1-a032-4034-996e-e7fedcefec56",
   "metadata": {},
   "outputs": [
    {
     "name": "stdout",
     "output_type": "stream",
     "text": [
      "Hello World\n"
     ]
    }
   ],
   "source": [
    "#capitalize first letters of the words\n",
    "s = \"hello world\"\n",
    "c = s.title()\n",
    "print(c)\n"
   ]
  },
  {
   "cell_type": "code",
   "execution_count": 8,
   "id": "3ddf3730-a533-4087-8855-12ad96a3d15d",
   "metadata": {},
   "outputs": [
    {
     "name": "stdout",
     "output_type": "stream",
     "text": [
      "palindrome\n"
     ]
    }
   ],
   "source": [
    "#check if a string is palindrome\n",
    "s = \"markram\"\n",
    "if s == s[::-1]:\n",
    "    print(\"palindrome\")\n",
    "else:\n",
    "    print(\"not palindrome\")"
   ]
  },
  {
   "cell_type": "code",
   "execution_count": 9,
   "id": "037e1ac8-8d73-4956-9328-535f507214df",
   "metadata": {},
   "outputs": [
    {
     "name": "stdout",
     "output_type": "stream",
     "text": [
      "The substring 'Hello' occurs 2 times in the main string.\n"
     ]
    }
   ],
   "source": [
    "#occurences of a substring\n",
    "main_string = \"Hello, World! Hello, Universe!\"\n",
    "\n",
    "substring = \"Hello\"\n",
    "count = main_string.count(substring)\n",
    "\n",
    "print(f\"The substring '{substring}' occurs {count} times in the main string.\")\n"
   ]
  },
  {
   "cell_type": "code",
   "execution_count": 13,
   "id": "c34d7f25-fd48-4a7d-8ae0-92b7b1bb034d",
   "metadata": {},
   "outputs": [
    {
     "name": "stdout",
     "output_type": "stream",
     "text": [
      "Hello World\n",
      "Hello  World\n"
     ]
    }
   ],
   "source": [
    "#concatination\n",
    "str1 = \"Hello\"\n",
    "str2 = \"World\"\n",
    "result = str1 + \" \" + str2\n",
    "print(result)  \n",
    "result2 = \"  \".join([str1,str2])\n",
    "print(result2)\n"
   ]
  },
  {
   "cell_type": "code",
   "execution_count": 1,
   "id": "b4b3661d-bf7c-4086-9d75-0961a692fbe3",
   "metadata": {},
   "outputs": [
    {
     "name": "stdout",
     "output_type": "stream",
     "text": [
      "The longest word in the string is 'krishna'\n"
     ]
    }
   ],
   "source": [
    "def longest_word(s):\n",
    "    words = s.split()\n",
    "    longest_word = max(words, key=len)\n",
    "    return longest_word\n",
    "\n",
    "\n",
    "string = \"hail lord krishna\"\n",
    "l = longest_word(string)\n",
    "print(f\"The longest word in the string is '{l}'\")\n"
   ]
  },
  {
   "cell_type": "code",
   "execution_count": 3,
   "id": "8d2c701e-94c9-4dfe-9b5b-cd31f36ebfca",
   "metadata": {},
   "outputs": [
    {
     "data": {
      "text/plain": [
       "7"
      ]
     },
     "execution_count": 3,
     "metadata": {},
     "output_type": "execute_result"
    }
   ],
   "source": [
    "#count consonants in a string\n",
    "def c_count(s):\n",
    "    vowels = 'aeiouAEIOU'\n",
    "    count = 0\n",
    "    for i in s :\n",
    "        if i not in vowels:\n",
    "            count += 1\n",
    "    return count \n",
    "word =\"helloWorld\"\n",
    "c_count(word)\n"
   ]
  },
  {
   "cell_type": "code",
   "execution_count": null,
   "id": "1c58317c-b51d-41a9-a4d7-849f2891a6f2",
   "metadata": {},
   "outputs": [],
   "source": []
  }
 ],
 "metadata": {
  "kernelspec": {
   "display_name": "Python 3 (ipykernel)",
   "language": "python",
   "name": "python3"
  },
  "language_info": {
   "codemirror_mode": {
    "name": "ipython",
    "version": 3
   },
   "file_extension": ".py",
   "mimetype": "text/x-python",
   "name": "python",
   "nbconvert_exporter": "python",
   "pygments_lexer": "ipython3",
   "version": "3.12.2"
  }
 },
 "nbformat": 4,
 "nbformat_minor": 5
}
