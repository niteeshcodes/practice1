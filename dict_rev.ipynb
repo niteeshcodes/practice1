{
 "cells": [
  {
   "cell_type": "code",
   "execution_count": 1,
   "id": "07520293-3858-41d7-8652-78d75f05fd92",
   "metadata": {},
   "outputs": [
    {
     "name": "stdout",
     "output_type": "stream",
     "text": [
      "{1: 'a', 2: 'b', 3: 'c'}\n"
     ]
    }
   ],
   "source": [
    "#reversing the key value pairs \n",
    "\n",
    "my_dict = {'a': 1, 'b': 2, 'c': 3}\n",
    "rev_dict = {}\n",
    "for key,value in my_dict.items():\n",
    "    rev_dict[value] = key \n",
    "print(rev_dict)"
   ]
  },
  {
   "cell_type": "code",
   "execution_count": null,
   "id": "aafb3b5a-b623-4044-be7b-3e1599fbc31e",
   "metadata": {},
   "outputs": [],
   "source": []
  }
 ],
 "metadata": {
  "kernelspec": {
   "display_name": "Python 3 (ipykernel)",
   "language": "python",
   "name": "python3"
  },
  "language_info": {
   "codemirror_mode": {
    "name": "ipython",
    "version": 3
   },
   "file_extension": ".py",
   "mimetype": "text/x-python",
   "name": "python",
   "nbconvert_exporter": "python",
   "pygments_lexer": "ipython3",
   "version": "3.12.2"
  }
 },
 "nbformat": 4,
 "nbformat_minor": 5
}
