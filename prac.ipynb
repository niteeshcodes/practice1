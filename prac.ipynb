{
 "cells": [
  {
   "cell_type": "code",
   "execution_count": 4,
   "id": "c9b7a496-c4fb-474b-9e29-cb28367542e7",
   "metadata": {},
   "outputs": [
    {
     "name": "stdout",
     "output_type": "stream",
     "text": [
      "{10: 1, 20: 2, 30: 3}\n",
      "20\n",
      "{1: 10, 2: 20, 3: 30, 4: 40}\n",
      "30\n"
     ]
    }
   ],
   "source": [
    "d = {1:10,2:20,3:30}\n",
    "rev = {}\n",
    "for key,value in d.items():\n",
    "    rev[value] = key\n",
    "print(rev)\n",
    "\n",
    "\n",
    "print(d[2])\n",
    "d1 = {4:40}\n",
    "d.update(d1)\n",
    "print(d)\n",
    "print(d.get(3))\n"
   ]
  },
  {
   "cell_type": "code",
   "execution_count": 11,
   "id": "c4378d29-42ef-415a-bca8-f2cb50ed1210",
   "metadata": {},
   "outputs": [
    {
     "name": "stdout",
     "output_type": "stream",
     "text": [
      "{1: 20, 2: 20, 4: 40}\n",
      "{4: 40, 2: 20, 1: 20}\n",
      "{\"1\": 20, \"4\": 40, \"2\": 20}\n"
     ]
    }
   ],
   "source": [
    "d2 = {1:20,4:40,2:20}\n",
    "sor = dict(sorted(d2.items()))\n",
    "print(sor)\n",
    "desc = dict(sorted(d2.items(),reverse = True))\n",
    "print(desc)\n",
    "\n",
    "import json\n",
    "js = json.dumps(d2)\n",
    "print(js)"
   ]
  },
  {
   "cell_type": "code",
   "execution_count": null,
   "id": "91f3606c-3667-4662-875e-ea81126fe1ac",
   "metadata": {},
   "outputs": [],
   "source": []
  }
 ],
 "metadata": {
  "kernelspec": {
   "display_name": "Python 3 (ipykernel)",
   "language": "python",
   "name": "python3"
  },
  "language_info": {
   "codemirror_mode": {
    "name": "ipython",
    "version": 3
   },
   "file_extension": ".py",
   "mimetype": "text/x-python",
   "name": "python",
   "nbconvert_exporter": "python",
   "pygments_lexer": "ipython3",
   "version": "3.12.2"
  }
 },
 "nbformat": 4,
 "nbformat_minor": 5
}
