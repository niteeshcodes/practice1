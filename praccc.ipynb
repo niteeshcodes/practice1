{
 "cells": [
  {
   "cell_type": "code",
   "execution_count": 3,
   "id": "a126d17d-de8f-43e9-8cb1-c78b3f4e13a8",
   "metadata": {},
   "outputs": [
    {
     "name": "stdout",
     "output_type": "stream",
     "text": [
      "the target is found in the index 3\n"
     ]
    }
   ],
   "source": [
    "#linear search \n",
    "def linear_search(arr,target):\n",
    "    for i in range(len(arr)) :\n",
    "        if arr[i] == target:\n",
    "            return i \n",
    "    return -1\n",
    "\n",
    "arr = [10,20,40,12]\n",
    "target = 12\n",
    "res = linear_search(arr,target)\n",
    "print(f'the target is found in the index {res}')\n",
    "            "
   ]
  },
  {
   "cell_type": "code",
   "execution_count": 4,
   "id": "58afdae8-54b6-424d-8ab2-c1c69afc8240",
   "metadata": {},
   "outputs": [
    {
     "name": "stdout",
     "output_type": "stream",
     "text": [
      "3\n"
     ]
    }
   ],
   "source": [
    "#binary search\n",
    "def binary_search(arr,target):\n",
    "    left,right = 0,len(arr)-1\n",
    "    while left <= right:\n",
    "        mid = (left + right)//2\n",
    "        if arr[mid] == target:\n",
    "            return mid\n",
    "        elif arr[mid] < target:\n",
    "            left = mid + 1\n",
    "        else:\n",
    "            right = mid - 1\n",
    "    return -1\n",
    "arr = [2,4,5,9,10]\n",
    "target = 9 \n",
    "res = binary_search(arr,target)\n",
    "print(res)\n",
    "\n",
    "    \n"
   ]
  },
  {
   "cell_type": "code",
   "execution_count": 6,
   "id": "6771c8af-6cf8-4c32-9086-444fd2b3bff8",
   "metadata": {},
   "outputs": [
    {
     "name": "stdout",
     "output_type": "stream",
     "text": [
      "[1, 3, 4, 6]\n"
     ]
    }
   ],
   "source": [
    "#bubble sort \n",
    "def bubble_sort(arr):\n",
    "    n = len(arr)\n",
    "    for i in range(n):\n",
    "        for j in range(0,n-i-1):\n",
    "            if arr[j] > arr[j+1]:\n",
    "                arr[j],arr[j+1] = arr[j+1],arr[j]\n",
    "    return arr\n",
    "arr = [3,1,6,4]\n",
    "res = bubble_sort(arr)\n",
    "print(res)\n",
    "\n",
    "    \n",
    "    "
   ]
  },
  {
   "cell_type": "code",
   "execution_count": 8,
   "id": "06d12d42-47ce-48b1-9f56-9eb7391e86f1",
   "metadata": {},
   "outputs": [
    {
     "name": "stdout",
     "output_type": "stream",
     "text": [
      "[1, 2, 3, 5, 8]\n"
     ]
    }
   ],
   "source": [
    "#selection sort\n",
    "def selection_sort(arr):\n",
    "    n = len(arr)\n",
    "    for i in range(n):\n",
    "        min_index = i\n",
    "        for j in range (i+1,n):\n",
    "            if arr[j] < arr[min_index]:\n",
    "                min_index = j\n",
    "        arr[i],arr[min_index] = arr[min_index],arr[i]\n",
    "    return arr\n",
    "\n",
    "arr = [2,8,3,5,1]\n",
    "res = selection_sort(arr)\n",
    "print(res)"
   ]
  },
  {
   "cell_type": "code",
   "execution_count": 13,
   "id": "615ae4c7-e216-49e0-a4b6-b95e4d1714d1",
   "metadata": {},
   "outputs": [
    {
     "name": "stdout",
     "output_type": "stream",
     "text": [
      "[2, 3, 4, 6, 9]\n"
     ]
    }
   ],
   "source": [
    "#insertion sort\n",
    "def insertion_sort(arr):\n",
    "    for i in range(1,len(arr)):\n",
    "        key = arr[i]\n",
    "        j = i-1\n",
    "        while j >= 0 and key < arr[j]:\n",
    "            arr[j+1] = arr[j]\n",
    "            j -= 1\n",
    "        arr[j+1] = key\n",
    "    return arr\n",
    "    \n",
    "arr = [2,9,4,3,6]\n",
    "res = insertion_sort(arr)\n",
    "print(res)"
   ]
  },
  {
   "cell_type": "code",
   "execution_count": 14,
   "id": "6ad06f39-7fcb-44c6-a109-ae6c785be963",
   "metadata": {},
   "outputs": [
    {
     "name": "stdout",
     "output_type": "stream",
     "text": [
      "[9, 6, 3, 2, 0]\n"
     ]
    }
   ],
   "source": [
    "lst = [0,2,3,6,9]\n",
    "rev = lst[::-1]\n",
    "print(rev)"
   ]
  },
  {
   "cell_type": "code",
   "execution_count": 15,
   "id": "81b99b8d-b927-4bfa-b9f8-1470fbf54e32",
   "metadata": {},
   "outputs": [
    {
     "name": "stdout",
     "output_type": "stream",
     "text": [
      "[5, 7, 0, 4]\n"
     ]
    }
   ],
   "source": [
    "l = [5,5,7,0,4]\n",
    "res = []\n",
    "for i in l:\n",
    "    if i not in res:\n",
    "        res.append(i)\n",
    "print(res)\n",
    "\n"
   ]
  },
  {
   "cell_type": "code",
   "execution_count": 16,
   "id": "bfde200e-3c77-496c-ac34-4d388cfa01f4",
   "metadata": {},
   "outputs": [
    {
     "name": "stdout",
     "output_type": "stream",
     "text": [
      "1 9\n"
     ]
    }
   ],
   "source": [
    "lst = [3,5,2,6,1,9]\n",
    "min = lst[0]\n",
    "max = lst[0]\n",
    "for i in lst:\n",
    "    if i < min:\n",
    "        min = i\n",
    "    if i > max:\n",
    "        max = i\n",
    "print(min,max)"
   ]
  },
  {
   "cell_type": "code",
   "execution_count": null,
   "id": "81aa300b-d0dd-44b6-bc88-b5c8597f638f",
   "metadata": {},
   "outputs": [],
   "source": []
  }
 ],
 "metadata": {
  "kernelspec": {
   "display_name": "Python 3 (ipykernel)",
   "language": "python",
   "name": "python3"
  },
  "language_info": {
   "codemirror_mode": {
    "name": "ipython",
    "version": 3
   },
   "file_extension": ".py",
   "mimetype": "text/x-python",
   "name": "python",
   "nbconvert_exporter": "python",
   "pygments_lexer": "ipython3",
   "version": "3.12.2"
  }
 },
 "nbformat": 4,
 "nbformat_minor": 5
}
