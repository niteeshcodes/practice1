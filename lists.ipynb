{
 "cells": [
  {
   "cell_type": "code",
   "execution_count": 2,
   "id": "0a54fdf1-a78d-410c-804a-e13a910ba0f9",
   "metadata": {},
   "outputs": [
    {
     "name": "stdout",
     "output_type": "stream",
     "text": [
      "[10, 'A', 12, 20, 10, 25]\n",
      "[25, 10, 20, 12, 'A', 10]\n"
     ]
    }
   ],
   "source": [
    "#Reverse the list\n",
    "x = [10,\"A\",12,20,10,25]\n",
    "#x.reverse()\n",
    "print(x)\n",
    "#m2\n",
    "print(x[::-1])"
   ]
  },
  {
   "cell_type": "code",
   "execution_count": 7,
   "id": "806b4793-9414-498a-8150-08e50793140a",
   "metadata": {},
   "outputs": [
    {
     "name": "stdout",
     "output_type": "stream",
     "text": [
      "[10, 'A', 12, 20, 10, 25]\n",
      "[10, 'A', 12, 20, 25]\n"
     ]
    }
   ],
   "source": [
    "#remove duplicates\n",
    "x = [10,\"A\",12,20,10,25]\n",
    "#y = list(set(x))\n",
    "print(x)\n",
    "#m2 \n",
    "\n",
    "y=[]\n",
    "for i in x :\n",
    "    if i not in y :\n",
    "        y.append(i)\n",
    "print(y)\n"
   ]
  },
  {
   "cell_type": "code",
   "execution_count": 48,
   "id": "25c9d2c1-cefa-4c33-887b-e5cad964e322",
   "metadata": {},
   "outputs": [
    {
     "name": "stdout",
     "output_type": "stream",
     "text": [
      "25\n",
      "10\n"
     ]
    }
   ],
   "source": [
    "x = [10,12,20,10,25]\n",
    "print(max(x))\n",
    "print(min(x))"
   ]
  },
  {
   "cell_type": "code",
   "execution_count": 47,
   "id": "411dcdac-13df-4239-8b5c-1b80ff678380",
   "metadata": {},
   "outputs": [
    {
     "name": "stdout",
     "output_type": "stream",
     "text": [
      "[10, 10, 12, 20, 25]\n",
      "[25, 20, 12, 10, 10]\n",
      "not empty\n",
      "1\n",
      "2\n"
     ]
    }
   ],
   "source": [
    "#sort the list\n",
    "x = [10,12,20,10,25]\n",
    "x.sort()\n",
    "print(x)\n",
    "x.sort(reverse = True)\n",
    "print(x)\n",
    "\n",
    "#check if list is empty or not\n",
    "if len(x) == 0:\n",
    "    print(\"list is empty\")\n",
    "else :\n",
    "    print(\"not empty\")\n",
    "    \n",
    "#find index of a specific element\n",
    "print(x.index(20))\n",
    "\n",
    "#count no.of occurences of a element\n",
    "print(x.count(10))\n",
    "\n"
   ]
  },
  {
   "cell_type": "code",
   "execution_count": 30,
   "id": "ae5daf48-23d5-4e0a-b4ef-e5e973d2d582",
   "metadata": {},
   "outputs": [
    {
     "name": "stdout",
     "output_type": "stream",
     "text": [
      "[1, 2, 3]\n",
      "6\n",
      "['a']\n"
     ]
    }
   ],
   "source": [
    "#merge two lists\n",
    "x=[1,2,3]\n",
    "y=[\"a\",\"b\"]\n",
    "#x.extend(y)\n",
    "print(x)\n",
    "\n",
    "#sum of elements\n",
    "print(sum(x))\n",
    "\n",
    "element = 3 \n",
    "'''if element in x:\n",
    "    print(\"yes\")\n",
    "else:\n",
    "    print(\"no\")'''\n",
    "y.remove(y[1])\n",
    "print(y)\n"
   ]
  },
  {
   "cell_type": "code",
   "execution_count": 42,
   "id": "29309cfc-e6ee-4df0-b3c5-637e31925ed3",
   "metadata": {},
   "outputs": [
    {
     "name": "stdout",
     "output_type": "stream",
     "text": [
      "[10, 12, 10]\n",
      "[10, 'A', 12, 20, 10, 25]\n",
      "[18, 10, 'A', 12, 20, 10, 25]\n",
      "y\n"
     ]
    }
   ],
   "source": [
    "#slicing\n",
    "x = [10,\"A\",12,20,10,25]\n",
    "print(x[0:5:2])\n",
    "#append\n",
    "#x.append(20)\n",
    "print(x)\n",
    "x.insert(0,18)\n",
    "print(x)\n",
    "x.remove(\"A\")\n",
    "\n",
    "if any(i % 2 == 0 for i in x):\n",
    "    print(\"y\")\n",
    "else:\n",
    "    print(\"n\")\n",
    "    "
   ]
  },
  {
   "cell_type": "code",
   "execution_count": 54,
   "id": "936c3936-078c-417a-9059-24705ecd2ab0",
   "metadata": {},
   "outputs": [
    {
     "name": "stdout",
     "output_type": "stream",
     "text": [
      "[2, 4, 6, 8, 10, 12, 14, 16, 18]\n"
     ]
    }
   ],
   "source": [
    "x = [ i*2 for i in range(1,10)]\n",
    "print(x)\n"
   ]
  },
  {
   "cell_type": "code",
   "execution_count": 55,
   "id": "fe6a02f1-38e2-4c43-b988-4cab6a32c520",
   "metadata": {},
   "outputs": [
    {
     "name": "stdout",
     "output_type": "stream",
     "text": [
      "8\n"
     ]
    }
   ],
   "source": [
    "#second largest element in the list\n",
    "t = [1,2,2,8,12]\n",
    "s = list(set(t))\n",
    "s.sort()\n",
    "sec_largest = s[-2]\n",
    "print(sec_largest)"
   ]
  },
  {
   "cell_type": "code",
   "execution_count": 67,
   "id": "f0d8b09a-1a0c-432a-82d4-6871761e6060",
   "metadata": {},
   "outputs": [
    {
     "name": "stdout",
     "output_type": "stream",
     "text": [
      "even numbers: 3\n",
      "odd numbersss: 4\n"
     ]
    }
   ],
   "source": [
    "#count the no.of even and odd numbers in the list\n",
    "x = [1,2,3,4,5,6,9]\n",
    "e = len([i for i in x if i%2 == 0])\n",
    "o = len([i for i in x if i%2 !=0])\n",
    "print(f\"even numbers: {e}\")\n",
    "print(\"odd numbersss:\" ,o)\n",
    "\n",
    "#remove the element from even indice"
   ]
  },
  {
   "cell_type": "code",
   "execution_count": 70,
   "id": "3e598b83-a6fe-4448-b68c-6d42d44e2dee",
   "metadata": {},
   "outputs": [
    {
     "name": "stdout",
     "output_type": "stream",
     "text": [
      "[1, 2, 3, 4, 5, 9]\n"
     ]
    }
   ],
   "source": [
    "#union of lists\n",
    "a = [1,2,3,4]\n",
    "b = [3,4,9,5]\n",
    "inter = list(set(a) | set(b))\n",
    "print(inter)"
   ]
  },
  {
   "cell_type": "code",
   "execution_count": null,
   "id": "6e83e6ea-8b4e-4572-bc7b-b93811394979",
   "metadata": {},
   "outputs": [],
   "source": []
  },
  {
   "cell_type": "code",
   "execution_count": null,
   "id": "72e19ca5-4e79-4b43-9f9a-c7dfbaf50c7b",
   "metadata": {},
   "outputs": [],
   "source": []
  }
 ],
 "metadata": {
  "kernelspec": {
   "display_name": "Python 3 (ipykernel)",
   "language": "python",
   "name": "python3"
  },
  "language_info": {
   "codemirror_mode": {
    "name": "ipython",
    "version": 3
   },
   "file_extension": ".py",
   "mimetype": "text/x-python",
   "name": "python",
   "nbconvert_exporter": "python",
   "pygments_lexer": "ipython3",
   "version": "3.12.2"
  }
 },
 "nbformat": 4,
 "nbformat_minor": 5
}
