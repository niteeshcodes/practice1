{
 "cells": [
  {
   "cell_type": "code",
   "execution_count": 1,
   "id": "29fb4c22-ee05-44a6-81dd-b8de04710b68",
   "metadata": {},
   "outputs": [
    {
     "name": "stdout",
     "output_type": "stream",
     "text": [
      "120\n"
     ]
    }
   ],
   "source": [
    "#RECURSION \n",
    "#Finding factorial \n",
    "\n",
    "def factorial(n):\n",
    "    if(n==0 or n==1):\n",
    "        return 1\n",
    "    else:\n",
    "        return n * factorial(n-1)\n",
    "print(factorial(5))"
   ]
  },
  {
   "cell_type": "code",
   "execution_count": 2,
   "id": "ec8aa6dc-2274-48a1-a58b-4917d97de7e2",
   "metadata": {},
   "outputs": [
    {
     "name": "stdout",
     "output_type": "stream",
     "text": [
      "0\n",
      "1\n",
      "1\n",
      "2\n",
      "3\n",
      "5\n",
      "8\n",
      "13\n",
      "21\n",
      "34\n"
     ]
    }
   ],
   "source": [
    "#fibonacii recurison \n",
    "def fibonacci(n):\n",
    "    if n <= 0:\n",
    "        return \"Input should be a positive integer.\"\n",
    "    elif n == 1:\n",
    "        return 0\n",
    "    elif n == 2:\n",
    "        return 1\n",
    "    else:\n",
    "        return fibonacci(n-1) + fibonacci(n-2)\n",
    "\n",
    "n = 10\n",
    "for i in range(1, n+1):\n",
    "    print(fibonacci(i))\n"
   ]
  },
  {
   "cell_type": "code",
   "execution_count": 9,
   "id": "93287033-3594-493f-a0f5-e4d66633d6de",
   "metadata": {},
   "outputs": [
    {
     "name": "stdout",
     "output_type": "stream",
     "text": [
      "0\n",
      "1\n",
      "1\n",
      "2\n",
      "3\n"
     ]
    }
   ],
   "source": [
    "#fibonacii without recursion \n",
    "def fibo(n):\n",
    "    x=0\n",
    "    y=1\n",
    "    print(x)\n",
    "    print(y)\n",
    "    i=1\n",
    "    while i <= n-2:\n",
    "        z = x+y\n",
    "        print(z)\n",
    "        x=y\n",
    "        y=z\n",
    "        i=i+1 \n",
    "        \n",
    "n = 5\n",
    "fibo(n)"
   ]
  },
  {
   "cell_type": "code",
   "execution_count": 12,
   "id": "ead68d84-5a4a-4730-9ff5-f5e378762b83",
   "metadata": {},
   "outputs": [
    {
     "name": "stdin",
     "output_type": "stream",
     "text": [
      "enter a number 434\n"
     ]
    },
    {
     "name": "stdout",
     "output_type": "stream",
     "text": [
      "not fibonacci\n"
     ]
    }
   ],
   "source": [
    "#check if num is fibonacci number or not\n",
    "num = int(input(\"enter a number\"))\n",
    "x=0\n",
    "y=1\n",
    "while True:\n",
    "    z = x+y\n",
    "    if z == num :\n",
    "        print(\"fibonacci\")\n",
    "        break;\n",
    "    if z > num :\n",
    "        print(\"not fibonacci\")\n",
    "        break;\n",
    "    x=y\n",
    "    y=z\n",
    "    \n"
   ]
  },
  {
   "cell_type": "code",
   "execution_count": 26,
   "id": "b4d6eab9-af47-4b28-bce8-921363d54518",
   "metadata": {},
   "outputs": [
    {
     "name": "stdin",
     "output_type": "stream",
     "text": [
      "enter the number:  mmmm\n"
     ]
    },
    {
     "name": "stdout",
     "output_type": "stream",
     "text": [
      "Multiplication table of mmmm is : \n",
      "invalid literal for int() with base 10: 'mmmm'\n",
      "other imp lines of code\n",
      "end of program\n"
     ]
    }
   ],
   "source": [
    "#exception handling \n",
    "n = (input(\"enter the number: \"))\n",
    "print(f\"Multiplication table of {n} is : \") \n",
    "\n",
    "try:\n",
    "    for i in range(1,11):\n",
    "        print(f\"{int(n)} X {i} = {int(n)*i}\")\n",
    "except Exception as e :\n",
    "    print(e)\n",
    "    \n",
    "\n",
    "\n",
    "print(\"other imp lines of code\")\n",
    "print(\"end of program\")\n",
    "\n",
    "\n"
   ]
  },
  {
   "cell_type": "code",
   "execution_count": 28,
   "id": "9e5f7a2e-9d2b-4507-b43b-6fb927693ffd",
   "metadata": {},
   "outputs": [
    {
     "name": "stdout",
     "output_type": "stream",
     "text": [
      "prime\n"
     ]
    }
   ],
   "source": [
    "#check whether the given num is prime or not\n",
    "def isprime(num):\n",
    "    d=1\n",
    "    cnt=0\n",
    "    while d <= num:\n",
    "        if num%d == 0:\n",
    "            cnt = cnt + 1\n",
    "        d = d + 1\n",
    "    if cnt == 2:\n",
    "        print('prime')\n",
    "    else:\n",
    "        print('not prime')\n",
    "isprime(23)"
   ]
  },
  {
   "cell_type": "code",
   "execution_count": 30,
   "id": "8b68a027-3c3c-44c5-b530-a15243422430",
   "metadata": {},
   "outputs": [
    {
     "name": "stdin",
     "output_type": "stream",
     "text": [
      "enter the number:  3\n"
     ]
    },
    {
     "name": "stdout",
     "output_type": "stream",
     "text": [
      "34\n"
     ]
    }
   ],
   "source": [
    "#find the nth even fibonacci number\n",
    "n = int(input(\"enter the number: \"))\n",
    "x = 0\n",
    "y = 1\n",
    "cnt = 0\n",
    "while True:\n",
    "    z = x+y\n",
    "    if z%2 == 0:\n",
    "        cnt += 1\n",
    "    if cnt == n:\n",
    "        print(z)\n",
    "        break\n",
    "    x = y\n",
    "    y = z"
   ]
  },
  {
   "cell_type": "code",
   "execution_count": 40,
   "id": "ea0e7e15-ea22-4a5e-9eba-e1f27b2b3ee4",
   "metadata": {},
   "outputs": [
    {
     "name": "stdin",
     "output_type": "stream",
     "text": [
      "enter num:  10\n"
     ]
    },
    {
     "name": "stdout",
     "output_type": "stream",
     "text": [
      "1 \n",
      "1 2 \n",
      "1 2 3 \n",
      "1 2 3 4 \n",
      "1 2 3 4 5 \n",
      "1 2 3 4 5 6 \n",
      "1 2 3 4 5 6 7 \n",
      "1 2 3 4 5 6 7 8 \n",
      "1 2 3 4 5 6 7 8 9 \n",
      "1 2 3 4 5 6 7 8 9 10 \n"
     ]
    }
   ],
   "source": [
    "n = int(input(\"enter num: \"))\n",
    "for i in range(1,n+1):\n",
    "    for j in range(1,i+1):\n",
    "        print(j,end = \" \")\n",
    "    print()"
   ]
  },
  {
   "cell_type": "code",
   "execution_count": 41,
   "id": "2e6eab3d-b686-44ac-bc66-34fbededd6b3",
   "metadata": {},
   "outputs": [
    {
     "name": "stdin",
     "output_type": "stream",
     "text": [
      "enter num:  5\n"
     ]
    },
    {
     "name": "stdout",
     "output_type": "stream",
     "text": [
      "*\n",
      "**\n",
      "***\n",
      "****\n",
      "*****\n"
     ]
    }
   ],
   "source": [
    "n = int(input(\"enter num: \"))\n",
    "for i in range(1,n+1) :\n",
    "    print(\"*\" * i)"
   ]
  },
  {
   "cell_type": "code",
   "execution_count": 46,
   "id": "24202122-f30e-40f7-a807-89f020f0c2e1",
   "metadata": {},
   "outputs": [
    {
     "name": "stdin",
     "output_type": "stream",
     "text": [
      "enter num:  5\n"
     ]
    },
    {
     "name": "stdout",
     "output_type": "stream",
     "text": [
      "* * * * * \n",
      "* * * * \n",
      "* * * \n",
      "* * \n",
      "* \n"
     ]
    }
   ],
   "source": [
    "n = int(input(\"enter num: \"))\n",
    "for i in range(n,0,-1) :\n",
    "    for j in range(i):\n",
    "        print(\"*\",end = \" \")\n",
    "    print()"
   ]
  },
  {
   "cell_type": "code",
   "execution_count": 49,
   "id": "e6b6b48e-7f12-4ee3-b862-7ce42279dd09",
   "metadata": {},
   "outputs": [
    {
     "name": "stdin",
     "output_type": "stream",
     "text": [
      "Enter the number of rows:  5\n"
     ]
    },
    {
     "name": "stdout",
     "output_type": "stream",
     "text": [
      "    *\n",
      "   **\n",
      "  ***\n",
      " ****\n",
      "*****\n"
     ]
    }
   ],
   "source": [
    "n = int(input(\"Enter the number of rows: \"))\n",
    "\n",
    "for i in range(1, n + 1):\n",
    "    # Print leading spaces\n",
    "    for j in range(n - i):\n",
    "        print(\" \", end=\"\")\n",
    "    # Print stars\n",
    "    for k in range(i):\n",
    "        print(\"*\", end=\"\")\n",
    "    print()\n"
   ]
  },
  {
   "cell_type": "code",
   "execution_count": 51,
   "id": "e49220c2-d953-4c63-9b61-56487e1bc9a1",
   "metadata": {},
   "outputs": [
    {
     "name": "stdin",
     "output_type": "stream",
     "text": [
      "Enter the number of rows:  5\n"
     ]
    },
    {
     "name": "stdout",
     "output_type": "stream",
     "text": [
      "    * \n",
      "   * * \n",
      "  * * * \n",
      " * * * * \n",
      "* * * * * \n"
     ]
    }
   ],
   "source": [
    "n = int(input(\"Enter the number of rows: \"))\n",
    "\n",
    "for i in range(1, n + 1):\n",
    "    # Print leading spaces\n",
    "    for j in range(n - i):\n",
    "        print(\" \", end=\"\")\n",
    "    # Print stars\n",
    "    for k in range(i):\n",
    "        print(\"*\", end=\" \")\n",
    "    print()\n"
   ]
  },
  {
   "cell_type": "code",
   "execution_count": null,
   "id": "6e4d7fd9-a767-4b18-99f6-fc1e513b0483",
   "metadata": {},
   "outputs": [],
   "source": []
  }
 ],
 "metadata": {
  "kernelspec": {
   "display_name": "Python 3 (ipykernel)",
   "language": "python",
   "name": "python3"
  },
  "language_info": {
   "codemirror_mode": {
    "name": "ipython",
    "version": 3
   },
   "file_extension": ".py",
   "mimetype": "text/x-python",
   "name": "python",
   "nbconvert_exporter": "python",
   "pygments_lexer": "ipython3",
   "version": "3.12.2"
  }
 },
 "nbformat": 4,
 "nbformat_minor": 5
}
