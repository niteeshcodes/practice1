{
 "cells": [
  {
   "cell_type": "code",
   "execution_count": 18,
   "id": "ab9a9e82-9484-414d-8337-027e73021df9",
   "metadata": {},
   "outputs": [
    {
     "name": "stdin",
     "output_type": "stream",
     "text": [
      "enter city name:  Bengaluru\n"
     ]
    },
    {
     "name": "stdout",
     "output_type": "stream",
     "text": [
      "{\n",
      "    \"coord\": {\n",
      "        \"lon\": 77.6033,\n",
      "        \"lat\": 12.9762\n",
      "    },\n",
      "    \"weather\": [\n",
      "        {\n",
      "            \"id\": 701,\n",
      "            \"main\": \"Mist\",\n",
      "            \"description\": \"mist\",\n",
      "            \"icon\": \"50d\"\n",
      "        }\n",
      "    ],\n",
      "    \"base\": \"stations\",\n",
      "    \"main\": {\n",
      "        \"temp\": 21.95,\n",
      "        \"feels_like\": 22.6,\n",
      "        \"temp_min\": 21.29,\n",
      "        \"temp_max\": 22.8,\n",
      "        \"pressure\": 1006,\n",
      "        \"humidity\": 92,\n",
      "        \"sea_level\": 1006,\n",
      "        \"grnd_level\": 909\n",
      "    },\n",
      "    \"visibility\": 5000,\n",
      "    \"wind\": {\n",
      "        \"speed\": 4.12,\n",
      "        \"deg\": 80\n",
      "    },\n",
      "    \"clouds\": {\n",
      "        \"all\": 75\n",
      "    },\n",
      "    \"dt\": 1733141762,\n",
      "    \"sys\": {\n",
      "        \"type\": 1,\n",
      "        \"id\": 9205,\n",
      "        \"country\": \"IN\",\n",
      "        \"sunrise\": 1733101014,\n",
      "        \"sunset\": 1733142095\n",
      "    },\n",
      "    \"timezone\": 19800,\n",
      "    \"id\": 1277333,\n",
      "    \"name\": \"Bengaluru\",\n",
      "    \"cod\": 200\n",
      "}\n",
      "The Current Weather description is:mist & temperature is:21.95\n"
     ]
    }
   ],
   "source": [
    "#Integrating data from weather.org using API in python \n",
    "import requests\n",
    "import json\n",
    "import pandas as pd\n",
    "\n",
    "#API to fetch temperature of a city \n",
    "city_name = input(\"enter city name: \")\n",
    "api_key = 'e8dd86f759fc0f96cd036ca60c4075ea'\n",
    "\n",
    "api_url = f'https://api.openweathermap.org/data/2.5/weather?q={city_name}&appid={api_key}&units=metric'\n",
    "serverinfo = requests.get(api_url)\n",
    "data = serverinfo.json()\n",
    "#print(data)\n",
    "\n",
    "#for pretty formating the json data\n",
    "pretty_data = json.dumps(data,indent=4)\n",
    "print(pretty_data)\n",
    "\n",
    "#tabular form \n",
    "df = pd.json_normalize(data)\n",
    "#print(df)\n",
    "\n",
    "#to fetch specific data from json \n",
    "d = data[\"weather\"][0][\"description\"]\n",
    "#print(d)\n",
    "t = data[\"main\"][\"temp\"]\n",
    "#print(t)\n",
    "\n",
    "print(f'The Current Weather description is:{d} & temperature is:{t}')\n",
    "\n"
   ]
  },
  {
   "cell_type": "code",
   "execution_count": null,
   "id": "097a037b-d05a-4492-a899-0ad7d09145b6",
   "metadata": {},
   "outputs": [],
   "source": []
  }
 ],
 "metadata": {
  "kernelspec": {
   "display_name": "Python 3 (ipykernel)",
   "language": "python",
   "name": "python3"
  },
  "language_info": {
   "codemirror_mode": {
    "name": "ipython",
    "version": 3
   },
   "file_extension": ".py",
   "mimetype": "text/x-python",
   "name": "python",
   "nbconvert_exporter": "python",
   "pygments_lexer": "ipython3",
   "version": "3.12.2"
  }
 },
 "nbformat": 4,
 "nbformat_minor": 5
}
