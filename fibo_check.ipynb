{
 "cells": [
  {
   "cell_type": "code",
   "execution_count": null,
   "id": "0bbe150f-9c11-4db7-89cf-e98439abd982",
   "metadata": {},
   "outputs": [],
   "source": [
    "#check if num is fibonacci number or not\n",
    "num = int(input(\"enter a number\"))\n",
    "x=0\n",
    "y=1\n",
    "while True:\n",
    "    z = x+y\n",
    "    if z == num :\n",
    "        print(\"fibonacci\")\n",
    "        break;\n",
    "    if z > num :\n",
    "        print(\"not fibonacci\")\n",
    "        break;\n",
    "    x=y\n",
    "    y=z"
   ]
  }
 ],
 "metadata": {
  "kernelspec": {
   "display_name": "Python 3 (ipykernel)",
   "language": "python",
   "name": "python3"
  },
  "language_info": {
   "codemirror_mode": {
    "name": "ipython",
    "version": 3
   },
   "file_extension": ".py",
   "mimetype": "text/x-python",
   "name": "python",
   "nbconvert_exporter": "python",
   "pygments_lexer": "ipython3",
   "version": "3.12.2"
  }
 },
 "nbformat": 4,
 "nbformat_minor": 5
}
